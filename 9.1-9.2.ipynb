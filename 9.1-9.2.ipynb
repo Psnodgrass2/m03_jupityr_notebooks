{
 "cells": [
  {
   "cell_type": "code",
   "execution_count": 4,
   "id": "230549eb",
   "metadata": {},
   "outputs": [],
   "source": [
    "def good():\n",
    "    return [\"Harry\", \"Ron\", \"Hermoine\"]"
   ]
  },
  {
   "cell_type": "code",
   "execution_count": 6,
   "id": "8aded95f",
   "metadata": {},
   "outputs": [
    {
     "name": "stdout",
     "output_type": "stream",
     "text": [
      "['Harry', 'Ron', 'Hermoine']\n"
     ]
    }
   ],
   "source": [
    "print(good())"
   ]
  },
  {
   "cell_type": "code",
   "execution_count": 18,
   "id": "49680629",
   "metadata": {},
   "outputs": [],
   "source": [
    "def get_odds():\n",
    "    odd_array = []\n",
    "    for each in range(10):\n",
    "        if (each % 2) != 0:\n",
    "            odd_array.append(each)\n",
    "    return odd_array"
   ]
  },
  {
   "cell_type": "code",
   "execution_count": 21,
   "id": "186fe65a",
   "metadata": {},
   "outputs": [
    {
     "name": "stdout",
     "output_type": "stream",
     "text": [
      "5\n"
     ]
    }
   ],
   "source": [
    "print(get_odds()[2])"
   ]
  },
  {
   "cell_type": "code",
   "execution_count": null,
   "id": "fe5a0153",
   "metadata": {},
   "outputs": [],
   "source": []
  }
 ],
 "metadata": {
  "kernelspec": {
   "display_name": "Python 3 (ipykernel)",
   "language": "python",
   "name": "python3"
  },
  "language_info": {
   "codemirror_mode": {
    "name": "ipython",
    "version": 3
   },
   "file_extension": ".py",
   "mimetype": "text/x-python",
   "name": "python",
   "nbconvert_exporter": "python",
   "pygments_lexer": "ipython3",
   "version": "3.9.13"
  }
 },
 "nbformat": 4,
 "nbformat_minor": 5
}
